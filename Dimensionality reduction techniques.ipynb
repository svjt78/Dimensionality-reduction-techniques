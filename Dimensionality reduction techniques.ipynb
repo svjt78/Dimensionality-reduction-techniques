{
 "cells": [
  {
   "cell_type": "code",
   "execution_count": 12,
   "metadata": {
    "collapsed": true
   },
   "outputs": [],
   "source": [
    "import numpy as np\n",
    "from sklearn.decomposition import PCA\n",
    "import pandas as pd\n",
    "import matplotlib.pyplot as plt\n",
    "from sklearn.preprocessing import scale\n",
    "%matplotlib inline"
   ]
  },
  {
   "cell_type": "markdown",
   "metadata": {},
   "source": [
    "# Data extraction and Preparation"
   ]
  },
  {
   "cell_type": "code",
   "execution_count": 13,
   "metadata": {
    "collapsed": true
   },
   "outputs": [],
   "source": [
    "df = pd.read_csv(\"/Users/suvojitdutta/Documents/PYTHON/Files/Estimation/Batch_Estimation_data.csv\", encoding = \"ISO-8859-1\", error_bad_lines=False)"
   ]
  },
  {
   "cell_type": "code",
   "execution_count": 14,
   "metadata": {
    "collapsed": false
   },
   "outputs": [
    {
     "data": {
      "text/plain": [
       "UniqueProgramList             object\n",
       "BusinessFunction              object\n",
       "ComplexityClass               object\n",
       "ModuleType                    object\n",
       "BatchModuleType               object\n",
       "TotalLOC                       int64\n",
       "NumberOfGOTO                   int64\n",
       "NumberOfALTER                  int64\n",
       "CyclomaticComplexityScore      int64\n",
       "ComplexityPointForBRE        float64\n",
       "EstimatedEffortForTRE        float64\n",
       "EstimatedEffortForBRE        float64\n",
       "EstimatedEffortForBRD        float64\n",
       "TotalEffort                  float64\n",
       "Class                         object\n",
       "dtype: object"
      ]
     },
     "execution_count": 14,
     "metadata": {},
     "output_type": "execute_result"
    }
   ],
   "source": [
    "df.dtypes"
   ]
  },
  {
   "cell_type": "code",
   "execution_count": 15,
   "metadata": {
    "collapsed": true
   },
   "outputs": [],
   "source": [
    "#With high frequency of 'C' , let's impute the 20 null values of BusinessCompexity with 'C\"\n",
    "df['ComplexityClass'].fillna(\"C\", inplace=True)"
   ]
  },
  {
   "cell_type": "code",
   "execution_count": 16,
   "metadata": {
    "collapsed": true
   },
   "outputs": [],
   "source": [
    "#STANDARDIZE THE 'BUSINESS COMPLEXITY' VALUES\n",
    "#Write the following function \n",
    "def getComplexityClass(x):\n",
    "    BC = str(x)\n",
    "    if (BC in ('C', 'Com-C')):\n",
    "        output = 'Complex'\n",
    "    elif (BC in ('VC', 'Com-VC')):\n",
    "        output = \"Very Complex\"\n",
    "    elif (BC in ('M', 'Com-M')):\n",
    "        output = \"Medium\"\n",
    "    elif (BC in ('S')):\n",
    "        output = \"Simple\"\n",
    "    else:\n",
    "        output = \"Not applicable\"\n",
    "        \n",
    "    return output"
   ]
  },
  {
   "cell_type": "code",
   "execution_count": 17,
   "metadata": {
    "collapsed": true
   },
   "outputs": [],
   "source": [
    "#STANDARDIZE THE 'BUSINESS COMPLEXITY' VALUES\n",
    "df['ComplexityClass'] = df.ComplexityClass.apply(getComplexityClass)"
   ]
  },
  {
   "cell_type": "code",
   "execution_count": 18,
   "metadata": {
    "collapsed": false
   },
   "outputs": [
    {
     "data": {
      "text/plain": [
       "UniqueProgramList              int64\n",
       "BusinessFunction               int64\n",
       "ComplexityClass                int64\n",
       "ModuleType                     int64\n",
       "BatchModuleType                int64\n",
       "TotalLOC                       int64\n",
       "NumberOfGOTO                   int64\n",
       "NumberOfALTER                  int64\n",
       "CyclomaticComplexityScore      int64\n",
       "ComplexityPointForBRE        float64\n",
       "EstimatedEffortForTRE        float64\n",
       "EstimatedEffortForBRE        float64\n",
       "EstimatedEffortForBRD        float64\n",
       "TotalEffort                  float64\n",
       "Class                          int64\n",
       "dtype: object"
      ]
     },
     "execution_count": 18,
     "metadata": {},
     "output_type": "execute_result"
    }
   ],
   "source": [
    "#label encode the data\n",
    "#Convert all data types to numeric\n",
    "\n",
    "from sklearn.preprocessing import LabelEncoder\n",
    "var_mod = ['UniqueProgramList', 'BusinessFunction', 'ComplexityClass', 'ModuleType', 'BatchModuleType', 'TotalLOC', 'NumberOfGOTO', 'NumberOfALTER', 'CyclomaticComplexityScore', 'ComplexityPointForBRE', 'EstimatedEffortForTRE', 'EstimatedEffortForBRE', 'EstimatedEffortForBRD', 'TotalEffort', 'Class']\n",
    "le = LabelEncoder()\n",
    "for i in var_mod:\n",
    "    if df[i].dtypes=='object':\n",
    "        df[i] = le.fit_transform(df[i])\n",
    "df.dtypes"
   ]
  },
  {
   "cell_type": "code",
   "execution_count": 36,
   "metadata": {
    "collapsed": true
   },
   "outputs": [],
   "source": [
    "#Backup df\n",
    "df1=df[['UniqueProgramList', 'BusinessFunction', 'ComplexityClass', 'ModuleType', 'BatchModuleType', 'TotalLOC', 'NumberOfGOTO', 'NumberOfALTER', 'CyclomaticComplexityScore', 'ComplexityPointForBRE', 'EstimatedEffortForTRE', 'EstimatedEffortForBRE', 'EstimatedEffortForBRD', 'TotalEffort', 'Class']]"
   ]
  },
  {
   "cell_type": "markdown",
   "metadata": {},
   "source": [
    "# Principal component PCA dimensinality reduction"
   ]
  },
  {
   "cell_type": "code",
   "execution_count": 19,
   "metadata": {
    "collapsed": true
   },
   "outputs": [],
   "source": [
    "#convert it to numpy arrays\n",
    "X=df.values"
   ]
  },
  {
   "cell_type": "code",
   "execution_count": 20,
   "metadata": {
    "collapsed": false
   },
   "outputs": [],
   "source": [
    "#Scaling the values\n",
    "X = scale(X)"
   ]
  },
  {
   "cell_type": "code",
   "execution_count": 22,
   "metadata": {
    "collapsed": true
   },
   "outputs": [],
   "source": [
    "pca = PCA(n_components=9)"
   ]
  },
  {
   "cell_type": "code",
   "execution_count": 23,
   "metadata": {
    "collapsed": false
   },
   "outputs": [
    {
     "data": {
      "text/plain": [
       "PCA(copy=True, n_components=9, whiten=False)"
      ]
     },
     "execution_count": 23,
     "metadata": {},
     "output_type": "execute_result"
    }
   ],
   "source": [
    "pca.fit(X)"
   ]
  },
  {
   "cell_type": "code",
   "execution_count": 24,
   "metadata": {
    "collapsed": true
   },
   "outputs": [],
   "source": [
    "#The amount of variance that each PC explains\n",
    "var= pca.explained_variance_ratio_"
   ]
  },
  {
   "cell_type": "code",
   "execution_count": 25,
   "metadata": {
    "collapsed": false
   },
   "outputs": [],
   "source": [
    "#Cumulative Variance explains\n",
    "var1=np.cumsum(np.round(pca.explained_variance_ratio_, decimals=4)*100)"
   ]
  },
  {
   "cell_type": "code",
   "execution_count": 27,
   "metadata": {
    "collapsed": false
   },
   "outputs": [
    {
     "name": "stdout",
     "output_type": "stream",
     "text": [
      "[ 37.25  54.87  68.22  78.83  85.11  89.68  93.31  96.14  97.87]\n"
     ]
    }
   ],
   "source": [
    "print (var1)"
   ]
  },
  {
   "cell_type": "code",
   "execution_count": 28,
   "metadata": {
    "collapsed": false
   },
   "outputs": [
    {
     "data": {
      "text/plain": [
       "[<matplotlib.lines.Line2D at 0x1172c1f60>]"
      ]
     },
     "execution_count": 28,
     "metadata": {},
     "output_type": "execute_result"
    },
    {
     "data": {
      "image/png": "[encoded data removed]",
      "text/plain": [
       "<matplotlib.figure.Figure at 0x117cb8940>"
      ]
     },
     "metadata": {},
     "output_type": "display_data"
    }
   ],
   "source": [
    "plt.plot(var1)"
   ]
  },
  {
   "cell_type": "code",
   "execution_count": 30,
   "metadata": {
    "collapsed": false
   },
   "outputs": [],
   "source": [
    "#Looking at above plot I'm taking 30 variables\n",
    "pca = PCA(n_components=7)\n",
    "pca.fit(X)\n",
    "X1=pca.fit_transform(X)"
   ]
  },
  {
   "cell_type": "code",
   "execution_count": 32,
   "metadata": {
    "collapsed": false
   },
   "outputs": [
    {
     "name": "stdout",
     "output_type": "stream",
     "text": [
      "[[-1.46588346 -1.70472026 -0.49384701 ..., -0.63968037 -0.06933891\n",
      "   0.34281138]\n",
      " [-1.51878738 -1.45888784 -0.34173756 ..., -0.30197283 -0.34578671\n",
      "   0.76587546]\n",
      " [-1.15151952 -1.37331797 -0.76745442 ..., -0.557657   -0.37719354\n",
      "   0.77035037]\n",
      " ..., \n",
      " [-1.18884174 -1.3598025  -0.88444511 ...,  0.09141626 -1.56538209\n",
      "  -0.38356056]\n",
      " [-1.32318837 -1.65235151  1.78450708 ..., -0.66402921 -0.17188381\n",
      "   0.43598101]\n",
      " [-1.54208242 -1.40820311 -0.28907558 ..., -0.24141839 -0.36370394\n",
      "   0.8996494 ]]\n"
     ]
    },
    {
     "data": {
      "text/plain": [
       "(2101, 7)"
      ]
     },
     "execution_count": 32,
     "metadata": {},
     "output_type": "execute_result"
    }
   ],
   "source": [
    "print (X1)\n",
    "X1.shape"
   ]
  },
  {
   "cell_type": "markdown",
   "metadata": {},
   "source": [
    "# Decision Tree for dimensionality reduction"
   ]
  },
  {
   "cell_type": "code",
   "execution_count": 1,
   "metadata": {
    "collapsed": true
   },
   "outputs": [],
   "source": [
    "from sklearn import cross_validation, metrics   #Additional scklearn functions\n",
    "from sklearn.grid_search import GridSearchCV   #Perforing grid search\n",
    "from sklearn.preprocessing import label_binarize\n",
    "from sklearn import preprocessing\n",
    "from sklearn import tree\n",
    "from sklearn.ensemble import RandomForestRegressor\n",
    "import matplotlib.pylab as plt\n",
    "%matplotlib inline\n",
    "from matplotlib.pylab import rcParams\n",
    "rcParams['figure.figsize'] = 12, 4"
   ]
  },
  {
   "cell_type": "code",
   "execution_count": 2,
   "metadata": {
    "collapsed": true
   },
   "outputs": [],
   "source": [
    "#define a function which will help us create different models and perform cross-validation.\n",
    "\n",
    "def modelfit(alg, dtrain, predictors, outcome, performCV=True, printFeatureImportance=True, cv_folds=10):\n",
    "    #Fit the algorithm on the data\n",
    "  \n",
    "    #dtrain[outcome] = label_binarize(dtrain[outcome], classes=[0, 1])\n",
    "    alg.fit(dtrain[predictors], dtrain[outcome])\n",
    "        \n",
    "    #Print Feature Importance:\n",
    "    if printFeatureImportance:\n",
    "        feat_imp = pd.Series(alg.feature_importances_, predictors).sort_values(ascending=False)\n",
    "        feat_imp.plot(kind='bar', title='Feature Importances')\n",
    "        plt.ylabel('Feature Importance Score')"
   ]
  },
  {
   "cell_type": "code",
   "execution_count": 3,
   "metadata": {
    "collapsed": false
   },
   "outputs": [
    {
     "ename": "NameError",
     "evalue": "name 'df1' is not defined",
     "output_type": "error",
     "traceback": [
      "\u001b[0;31m---------------------------------------------------------------------------\u001b[0m",
      "\u001b[0;31mNameError\u001b[0m                                 Traceback (most recent call last)",
      "\u001b[0;32m<ipython-input-3-3c3343281a0c>\u001b[0m in \u001b[0;36m<module>\u001b[0;34m()\u001b[0m\n\u001b[1;32m      5\u001b[0m \u001b[0moutcome_var\u001b[0m \u001b[0;34m=\u001b[0m \u001b[0;34m'EstimatedEffortForTRE'\u001b[0m\u001b[0;34m\u001b[0m\u001b[0m\n\u001b[1;32m      6\u001b[0m \u001b[0mpredictor_var\u001b[0m \u001b[0;34m=\u001b[0m \u001b[0;34m[\u001b[0m\u001b[0;34m'UniqueProgramList'\u001b[0m\u001b[0;34m,\u001b[0m \u001b[0;34m'BusinessFunction'\u001b[0m\u001b[0;34m,\u001b[0m \u001b[0;34m'ComplexityClass'\u001b[0m\u001b[0;34m,\u001b[0m \u001b[0;34m'ModuleType'\u001b[0m\u001b[0;34m,\u001b[0m \u001b[0;34m'BatchModuleType'\u001b[0m\u001b[0;34m,\u001b[0m \u001b[0;34m'TotalLOC'\u001b[0m\u001b[0;34m,\u001b[0m \u001b[0;34m'NumberOfGOTO'\u001b[0m\u001b[0;34m,\u001b[0m \u001b[0;34m'NumberOfALTER'\u001b[0m\u001b[0;34m,\u001b[0m \u001b[0;34m'CyclomaticComplexityScore'\u001b[0m\u001b[0;34m,\u001b[0m \u001b[0;34m'ComplexityPointForBRE'\u001b[0m\u001b[0;34m]\u001b[0m\u001b[0;34m\u001b[0m\u001b[0m\n\u001b[0;32m----> 7\u001b[0;31m \u001b[0mmodelfit\u001b[0m\u001b[0;34m(\u001b[0m\u001b[0mmodel\u001b[0m\u001b[0;34m,\u001b[0m \u001b[0mdf1\u001b[0m\u001b[0;34m,\u001b[0m \u001b[0mpredictor_var\u001b[0m \u001b[0;34m,\u001b[0m\u001b[0moutcome_var\u001b[0m\u001b[0;34m)\u001b[0m\u001b[0;34m\u001b[0m\u001b[0m\n\u001b[0m",
      "\u001b[0;31mNameError\u001b[0m: name 'df1' is not defined"
     ]
    }
   ],
   "source": [
    "\n",
    "# Create tree object \n",
    "#model = tree.DecisionTreeRegressor(criterion='mse', splitter='best', max_depth=None, min_samples_split=2, min_samples_leaf=1, min_weight_fraction_leaf=0.0, max_features=None, random_state=None, max_leaf_nodes=None,  presort=False)\n",
    "model=tree.DecisionTreeRegressor(random_state=0)\n",
    "outcome_var = 'EstimatedEffortForTRE'\n",
    "predictor_var = ['UniqueProgramList', 'BusinessFunction', 'ComplexityClass', 'ModuleType', 'BatchModuleType', 'TotalLOC', 'NumberOfGOTO', 'NumberOfALTER', 'CyclomaticComplexityScore', 'ComplexityPointForBRE']\n",
    "modelfit(model, df, predictor_var ,outcome_var)"
   ]
  },
  {
   "cell_type": "markdown",
   "metadata": {},
   "source": [
    "# Random Forest for dimensionality reduction¶"
   ]
  },
  {
   "cell_type": "code",
   "execution_count": null,
   "metadata": {
    "collapsed": false
   },
   "outputs": [],
   "source": [
    "rfr0 = RandomForestRegressor(n_estimators =500,  oob_score = \"TRUE\", n_jobs = -1,\n",
    "        random_state =10, max_features = \"sqrt\", max_depth = 8, min_samples_split = 20, min_samples_leaf = 20) \n",
    "outcome_var = 'EstimatedEffortForTRE'\n",
    "predictor_var = ['UniqueProgramList', 'BusinessFunction', 'ComplexityClass', 'ModuleType', 'BatchModuleType', 'TotalLOC', 'NumberOfGOTO', 'NumberOfALTER', 'CyclomaticComplexityScore', 'ComplexityPointForBRE']\n",
    "modelfit(rfr0, df, predictor_var ,outcome_var)"
   ]
  },
  {
   "cell_type": "code",
   "execution_count": null,
   "metadata": {
    "collapsed": true
   },
   "outputs": [],
   "source": []
  }
 ],
 "metadata": {
  "anaconda-cloud": {},
  "kernelspec": {
   "display_name": "Python [Root]",
   "language": "python",
   "name": "Python [Root]"
  },
  "language_info": {
   "codemirror_mode": {
    "name": "ipython",
    "version": 3
   },
   "file_extension": ".py",
   "mimetype": "text/x-python",
   "name": "python",
   "nbconvert_exporter": "python",
   "pygments_lexer": "ipython3",
   "version": "3.5.2"
  }
 },
 "nbformat": 4,
 "nbformat_minor": 0
}
